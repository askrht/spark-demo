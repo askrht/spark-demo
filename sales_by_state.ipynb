{
 "cells": [
  {
   "cell_type": "code",
   "execution_count": 101,
   "metadata": {},
   "outputs": [],
   "source": [
    "'''\n",
    "  This is a rough workbook, used only for exploring data.\n",
    "  Please execute sales_by_state.py script to print the actual report\n",
    "  like so,\n",
    "  spark-submit sales_by_state.py\n",
    "'''\n",
    "import findspark\n",
    "findspark.init()\n",
    "from pyspark import SparkContext\n",
    "from collections import namedtuple\n",
    "from datetime import datetime\n",
    "from datetime import timezone\n",
    "sc = SparkContext('local', 'sales_by_state')"
   ]
  },
  {
   "cell_type": "code",
   "execution_count": 193,
   "metadata": {},
   "outputs": [
    {
     "name": "stdout",
     "output_type": "stream",
     "text": [
      "(123, 'CA')\n",
      "(456, 'AK')\n",
      "(789, 'AL')\n",
      "(101112, 'OR')\n",
      "(124, 'CA')\n"
     ]
    }
   ],
   "source": [
    "CustomerState = namedtuple('CustomerState', ('cid', 'state'), rename=False)\n",
    "\n",
    "def parseCustomers(line):\n",
    "    # 123#AAA Inc#1 First Ave\tMountain View CA#94040\n",
    "    parts = line.split('#')\n",
    "    cid = int(parts[0])\n",
    "    state = parts[-2][-2:]\n",
    "    return (cid, state)\n",
    "\n",
    "def printList(rows):\n",
    "    for row in rows:\n",
    "        print(row)\n",
    "\n",
    "customersRdd = sc.textFile('customers.dat').map(parseCustomers)\n",
    "\n",
    "# Cache only if number of customers is small\n",
    "customersDat = customersRdd.partitionBy(1).cache().collect()\n",
    "customersBC = sc.broadcast(customersDat)\n",
    "printList(customersBC.value)"
   ]
  },
  {
   "cell_type": "code",
   "execution_count": null,
   "metadata": {},
   "outputs": [],
   "source": []
  },
  {
   "cell_type": "code",
   "execution_count": 103,
   "metadata": {},
   "outputs": [
    {
     "data": {
      "text/plain": [
       "[(123, (datetime.datetime(2016, 2, 1, 9, 0), 123456))]"
      ]
     },
     "execution_count": 103,
     "metadata": {},
     "output_type": "execute_result"
    }
   ],
   "source": [
    "import datetime as dtmod\n",
    "Sales = namedtuple('Sales', ('cid', 'dttm', 'amount'), rename=False)\n",
    "\n",
    "def parseSales(line):\n",
    "    # 1454313600#123#123456\n",
    "    parts = line.split('#')\n",
    "    d1 = datetime.fromtimestamp(int(parts[0]))\n",
    "    # roundup date to the hour tz=timezone.utc\n",
    "    dttm = d1 + dtmod.timedelta(hours = 1, minutes = -d1.minute, seconds = -d1.second, microseconds = -d1.microsecond)\n",
    "    cid = int(parts[1])\n",
    "    amount = int(parts[2])\n",
    "    return (cid, (dttm, amount))\n",
    "\n",
    "salesRdd = sc.textFile('sales.dat').map(parseSales)\n",
    "salesRdd.take(1)"
   ]
  },
  {
   "cell_type": "code",
   "execution_count": 104,
   "metadata": {},
   "outputs": [
    {
     "data": {
      "text/plain": [
       "[(456, ((datetime.datetime(2016, 8, 1, 11, 0), 123458), 'AK'))]"
      ]
     },
     "execution_count": 104,
     "metadata": {},
     "output_type": "execute_result"
    }
   ],
   "source": [
    "salesRdd.join(customersRdd).take(1)"
   ]
  },
  {
   "cell_type": "code",
   "execution_count": 105,
   "metadata": {},
   "outputs": [
    {
     "data": {
      "text/plain": [
       "((datetime.datetime(2016, 8, 1, 11, 0), 123458), 'AK')"
      ]
     },
     "execution_count": 105,
     "metadata": {},
     "output_type": "execute_result"
    }
   ],
   "source": [
    "salesRdd.join(customersRdd).take(1)[0][1]"
   ]
  },
  {
   "cell_type": "code",
   "execution_count": 106,
   "metadata": {},
   "outputs": [
    {
     "data": {
      "text/plain": [
       "datetime.datetime(2016, 8, 1, 11, 0)"
      ]
     },
     "execution_count": 106,
     "metadata": {},
     "output_type": "execute_result"
    }
   ],
   "source": [
    "salesRdd.join(customersRdd).take(1)[0][1][0][0]"
   ]
  },
  {
   "cell_type": "code",
   "execution_count": 107,
   "metadata": {},
   "outputs": [
    {
     "data": {
      "text/plain": [
       "'AK'"
      ]
     },
     "execution_count": 107,
     "metadata": {},
     "output_type": "execute_result"
    }
   ],
   "source": [
    "salesRdd.join(customersRdd).take(1)[0][1][1]"
   ]
  },
  {
   "cell_type": "code",
   "execution_count": 73,
   "metadata": {},
   "outputs": [
    {
     "data": {
      "text/plain": [
       "123458"
      ]
     },
     "execution_count": 73,
     "metadata": {},
     "output_type": "execute_result"
    }
   ],
   "source": [
    "salesRdd.join(customersRdd).take(1)[0][1][0][1]"
   ]
  },
  {
   "cell_type": "code",
   "execution_count": 184,
   "metadata": {},
   "outputs": [
    {
     "data": {
      "text/plain": [
       "[('AK', 2016, 8, 1, 11, 123458),\n",
       " ('CA', 2016, 2, 1, 9, 246912),\n",
       " ('AL', 2016, 8, 1, 12, 123459),\n",
       " ('OR', 2016, 2, 1, 9, 123456),\n",
       " ('AL', 2017, 8, 1, 10, 123457)]"
      ]
     },
     "execution_count": 184,
     "metadata": {},
     "output_type": "execute_result"
    }
   ],
   "source": [
    "hourRdd = salesRdd.join(customersRdd) \\\n",
    "    .map(lambda x: ((x[1][1], x[1][0][0]), x[1][0][1])) \\\n",
    "    .reduceByKey(lambda a, b: a + b) \\\n",
    "    .map(lambda x: (x[0][0], x[0][1].year, x[0][1].month, x[0][1].day, x[0][1].hour, x[1]))\n",
    "hourRdd.take(10)"
   ]
  },
  {
   "cell_type": "code",
   "execution_count": 185,
   "metadata": {},
   "outputs": [
    {
     "data": {
      "text/plain": [
       "[('AK', 0, 0, 0, 0, 123458),\n",
       " ('CA', 0, 0, 0, 0, 246912),\n",
       " ('AL', 0, 0, 0, 0, 246916),\n",
       " ('OR', 0, 0, 0, 0, 123456)]"
      ]
     },
     "execution_count": 185,
     "metadata": {},
     "output_type": "execute_result"
    }
   ],
   "source": [
    "stateRdd = hourRdd.map(lambda x: (x[0], x[5])) \\\n",
    "    .reduceByKey(lambda a, b: a + b) \\\n",
    "    .map(lambda x: (x[0], 0, 0, 0, 0, x[1]))\n",
    "stateRdd.take(10)"
   ]
  },
  {
   "cell_type": "code",
   "execution_count": 172,
   "metadata": {},
   "outputs": [
    {
     "data": {
      "text/plain": [
       "[('AK', 2016, 8, 1, 11, 123458),\n",
       " ('AK', 0, 0, 0, 0, 123458),\n",
       " ('AL', 2016, 8, 1, 12, 123459),\n",
       " ('AL', 2017, 8, 1, 10, 123457),\n",
       " ('AL', 0, 0, 0, 0, 246916),\n",
       " ('CA', 2016, 2, 1, 9, 246912),\n",
       " ('CA', 0, 0, 0, 0, 246912),\n",
       " ('OR', 2016, 2, 1, 9, 123456),\n",
       " ('OR', 0, 0, 0, 0, 123456)]"
      ]
     },
     "execution_count": 172,
     "metadata": {},
     "output_type": "execute_result"
    }
   ],
   "source": [
    "hourRdd.union(stateRdd).sortBy(lambda x: x[0]).take(10)"
   ]
  },
  {
   "cell_type": "code",
   "execution_count": 186,
   "metadata": {},
   "outputs": [
    {
     "data": {
      "text/plain": [
       "[('AK', 2016, 8, 1, 0, 123458),\n",
       " ('CA', 2016, 2, 1, 0, 246912),\n",
       " ('AL', 2017, 8, 1, 0, 123457),\n",
       " ('AL', 2016, 8, 1, 0, 123459),\n",
       " ('OR', 2016, 2, 1, 0, 123456)]"
      ]
     },
     "execution_count": 186,
     "metadata": {},
     "output_type": "execute_result"
    }
   ],
   "source": [
    "dayRdd = hourRdd.map(lambda x: ((x[0], x[1], x[2], x[3], 0), x[5])) \\\n",
    "    .reduceByKey(lambda a, b: a + b) \\\n",
    "    .map(lambda x: (x[0][0], x[0][1], x[0][2], x[0][3], x[0][4], x[1]))\n",
    "dayRdd.take(10)"
   ]
  },
  {
   "cell_type": "code",
   "execution_count": 187,
   "metadata": {},
   "outputs": [
    {
     "data": {
      "text/plain": [
       "[('AL', 2016, 8, 0, 0, 123459),\n",
       " ('OR', 2016, 2, 0, 0, 123456),\n",
       " ('AK', 2016, 8, 0, 0, 123458),\n",
       " ('CA', 2016, 2, 0, 0, 246912),\n",
       " ('AL', 2017, 8, 0, 0, 123457)]"
      ]
     },
     "execution_count": 187,
     "metadata": {},
     "output_type": "execute_result"
    }
   ],
   "source": [
    "monthRdd = dayRdd.map(lambda x: ((x[0], x[1], x[2], 0, 0), x[5])) \\\n",
    "    .reduceByKey(lambda a, b: a + b) \\\n",
    "    .map(lambda x: (x[0][0], x[0][1], x[0][2], x[0][3], x[0][4], x[1]))\n",
    "monthRdd.take(10)"
   ]
  },
  {
   "cell_type": "code",
   "execution_count": 188,
   "metadata": {},
   "outputs": [
    {
     "data": {
      "text/plain": [
       "[('AL', 2016, 0, 0, 0, 123459),\n",
       " ('OR', 2016, 0, 0, 0, 123456),\n",
       " ('AK', 2016, 0, 0, 0, 123458),\n",
       " ('CA', 2016, 0, 0, 0, 246912),\n",
       " ('AL', 2017, 0, 0, 0, 123457)]"
      ]
     },
     "execution_count": 188,
     "metadata": {},
     "output_type": "execute_result"
    }
   ],
   "source": [
    "yearRdd = dayRdd.map(lambda x: ((x[0], x[1], 0, 0, 0), x[5])) \\\n",
    "    .reduceByKey(lambda a, b: a + b) \\\n",
    "    .map(lambda x: (x[0][0], x[0][1], x[0][2], x[0][3], x[0][4], x[1]))\n",
    "yearRdd.take(10)"
   ]
  },
  {
   "cell_type": "code",
   "execution_count": 192,
   "metadata": {},
   "outputs": [
    {
     "data": {
      "text/plain": [
       "[('AK', 2016, 8, 1, 11, 123458),\n",
       " ('AK', 2016, 8, 1, 0, 123458),\n",
       " ('AK', 2016, 8, 0, 0, 123458),\n",
       " ('AK', 2016, 0, 0, 0, 123458),\n",
       " ('AK', 0, 0, 0, 0, 123458),\n",
       " ('AL', 2017, 8, 1, 10, 123457),\n",
       " ('AL', 2017, 8, 1, 0, 123457),\n",
       " ('AL', 2017, 8, 0, 0, 123457),\n",
       " ('AL', 2017, 0, 0, 0, 123457),\n",
       " ('AL', 2016, 8, 1, 12, 123459),\n",
       " ('AL', 2016, 8, 1, 0, 123459),\n",
       " ('AL', 2016, 8, 0, 0, 123459),\n",
       " ('AL', 2016, 0, 0, 0, 123459),\n",
       " ('AL', 0, 0, 0, 0, 246916),\n",
       " ('CA', 2016, 2, 1, 9, 246912),\n",
       " ('CA', 2016, 2, 1, 0, 246912),\n",
       " ('CA', 2016, 2, 0, 0, 246912),\n",
       " ('CA', 2016, 0, 0, 0, 246912),\n",
       " ('CA', 0, 0, 0, 0, 246912),\n",
       " ('OR', 2016, 2, 1, 9, 123456),\n",
       " ('OR', 2016, 2, 1, 0, 123456),\n",
       " ('OR', 2016, 2, 0, 0, 123456),\n",
       " ('OR', 2016, 0, 0, 0, 123456),\n",
       " ('OR', 0, 0, 0, 0, 123456)]"
      ]
     },
     "execution_count": 192,
     "metadata": {},
     "output_type": "execute_result"
    }
   ],
   "source": [
    "combinedRdd = hourRdd.union(dayRdd) \\\n",
    "    .union(monthRdd) \\\n",
    "    .union(yearRdd) \\\n",
    "    .union(stateRdd) \\\n",
    "    .sortBy(lambda x: (x[0], -x[1], -x[2], -x[3], -x[4]), True)\n",
    "combinedRdd.take(100)"
   ]
  },
  {
   "cell_type": "code",
   "execution_count": 100,
   "metadata": {},
   "outputs": [],
   "source": [
    "sc.stop()"
   ]
  }
 ],
 "metadata": {
  "kernelspec": {
   "display_name": "Python 3",
   "language": "python",
   "name": "python3"
  },
  "language_info": {
   "codemirror_mode": {
    "name": "ipython",
    "version": 3
   },
   "file_extension": ".py",
   "mimetype": "text/x-python",
   "name": "python",
   "nbconvert_exporter": "python",
   "pygments_lexer": "ipython3",
   "version": "3.7.3"
  }
 },
 "nbformat": 4,
 "nbformat_minor": 2
}
